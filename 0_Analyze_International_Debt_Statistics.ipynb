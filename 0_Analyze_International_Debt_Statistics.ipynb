{
  "nbformat": 4,
  "nbformat_minor": 0,
  "metadata": {
    "kernelspec": {
      "name": "python3",
      "display_name": "Python 3",
      "language": "python"
    },
    "language_info": {
      "name": "python",
      "version": "3.6.7",
      "mimetype": "text/x-python",
      "codemirror_mode": {
        "name": "ipython",
        "version": 3
      },
      "pygments_lexer": "ipython3",
      "nbconvert_exporter": "python",
      "file_extension": ".py"
    },
    "colab": {
      "name": "Analyze International Debt Statistics.ipynb",
      "provenance": [],
      "collapsed_sections": []
    }
  },
  "cells": [
    {
      "cell_type": "code",
      "metadata": {
        "dc": {
          "key": "4"
        },
        "tags": [
          "sample_code"
        ],
        "trusted": true,
        "id": "-LKN7I0GRfHj",
        "outputId": "7671e4d4-8fda-415f-aebf-3eab3607b885"
      },
      "source": [
        "%%sql\n",
        "postgresql:///international_debt\n",
        "select * from international_debt\n",
        "limit 5;"
      ],
      "execution_count": null,
      "outputs": [
        {
          "output_type": "stream",
          "text": [
            "5 rows affected.\n"
          ],
          "name": "stdout"
        },
        {
          "output_type": "execute_result",
          "data": {
            "text/plain": [
              "[('Afghanistan', 'AFG', 'Disbursements on external debt, long-term (DIS, current US$)', 'DT.DIS.DLXF.CD', Decimal('72894453.700000003')),\n",
              " ('Afghanistan', 'AFG', 'Interest payments on external debt, long-term (INT, current US$)', 'DT.INT.DLXF.CD', Decimal('53239440.100000001')),\n",
              " ('Afghanistan', 'AFG', 'PPG, bilateral (AMT, current US$)', 'DT.AMT.BLAT.CD', Decimal('61739336.899999999')),\n",
              " ('Afghanistan', 'AFG', 'PPG, bilateral (DIS, current US$)', 'DT.DIS.BLAT.CD', Decimal('49114729.399999999')),\n",
              " ('Afghanistan', 'AFG', 'PPG, bilateral (INT, current US$)', 'DT.INT.BLAT.CD', Decimal('39903620.100000001'))]"
            ],
            "text/html": [
              "<table>\n",
              "    <tr>\n",
              "        <th>country_name</th>\n",
              "        <th>country_code</th>\n",
              "        <th>indicator_name</th>\n",
              "        <th>indicator_code</th>\n",
              "        <th>debt</th>\n",
              "    </tr>\n",
              "    <tr>\n",
              "        <td>Afghanistan</td>\n",
              "        <td>AFG</td>\n",
              "        <td>Disbursements on external debt, long-term (DIS, current US$)</td>\n",
              "        <td>DT.DIS.DLXF.CD</td>\n",
              "        <td>72894453.700000003</td>\n",
              "    </tr>\n",
              "    <tr>\n",
              "        <td>Afghanistan</td>\n",
              "        <td>AFG</td>\n",
              "        <td>Interest payments on external debt, long-term (INT, current US$)</td>\n",
              "        <td>DT.INT.DLXF.CD</td>\n",
              "        <td>53239440.100000001</td>\n",
              "    </tr>\n",
              "    <tr>\n",
              "        <td>Afghanistan</td>\n",
              "        <td>AFG</td>\n",
              "        <td>PPG, bilateral (AMT, current US$)</td>\n",
              "        <td>DT.AMT.BLAT.CD</td>\n",
              "        <td>61739336.899999999</td>\n",
              "    </tr>\n",
              "    <tr>\n",
              "        <td>Afghanistan</td>\n",
              "        <td>AFG</td>\n",
              "        <td>PPG, bilateral (DIS, current US$)</td>\n",
              "        <td>DT.DIS.BLAT.CD</td>\n",
              "        <td>49114729.399999999</td>\n",
              "    </tr>\n",
              "    <tr>\n",
              "        <td>Afghanistan</td>\n",
              "        <td>AFG</td>\n",
              "        <td>PPG, bilateral (INT, current US$)</td>\n",
              "        <td>DT.INT.BLAT.CD</td>\n",
              "        <td>39903620.100000001</td>\n",
              "    </tr>\n",
              "</table>"
            ]
          },
          "metadata": {
            "tags": []
          },
          "execution_count": 42
        }
      ]
    },
    {
      "cell_type": "markdown",
      "metadata": {
        "dc": {
          "key": "12"
        },
        "deletable": false,
        "editable": false,
        "run_control": {
          "frozen": true
        },
        "tags": [
          "context"
        ],
        "id": "R9K8s0rZRfHk"
      },
      "source": [
        "## 2. Finding the number of distinct countries\n",
        "<p>From the first ten rows, we can see the amount of debt owed by Afghanistan</p>\n",
        "<p>There are chances that the countries have debt in more than one debt indicator. So getting the distinct values in next cell. </p>"
      ]
    },
    {
      "cell_type": "code",
      "metadata": {
        "dc": {
          "key": "12"
        },
        "tags": [
          "sample_code"
        ],
        "trusted": true,
        "id": "W70tsNgHRfHl",
        "outputId": "cd0f0e65-f44e-4afb-b39b-0b03cfa364bd"
      },
      "source": [
        "%%sql\n",
        "SELECT \n",
        "    COUNT(distinct country_name) AS total_distinct_countries\n",
        "FROM international_debt;"
      ],
      "execution_count": null,
      "outputs": [
        {
          "output_type": "stream",
          "text": [
            " * postgresql:///international_debt\n",
            "1 rows affected.\n"
          ],
          "name": "stdout"
        },
        {
          "output_type": "execute_result",
          "data": {
            "text/plain": [
              "[(124,)]"
            ],
            "text/html": [
              "<table>\n",
              "    <tr>\n",
              "        <th>total_distinct_countries</th>\n",
              "    </tr>\n",
              "    <tr>\n",
              "        <td>124</td>\n",
              "    </tr>\n",
              "</table>"
            ]
          },
          "metadata": {
            "tags": []
          },
          "execution_count": 2
        }
      ]
    },
    {
      "cell_type": "markdown",
      "metadata": {
        "dc": {
          "key": "20"
        },
        "deletable": false,
        "editable": false,
        "run_control": {
          "frozen": true
        },
        "tags": [
          "context"
        ],
        "id": "3qAR4BUGRfHn"
      },
      "source": [
        "## 3. Finding out the distinct debt indicators\n",
        "<p>There are 124 countries present.</p> \n",
        "<p><code>indicator_name</code>means the reason of taking the debt.\n",
        "<p><code>indicator_code</code> means different types of debt \n",
        "Knowing about these various debt indicators will make it easy to understand the areas in which a country can possibly be indebted to. </p>"
      ]
    },
    {
      "cell_type": "code",
      "metadata": {
        "dc": {
          "key": "20"
        },
        "tags": [
          "sample_code"
        ],
        "trusted": true,
        "id": "hxTh7QpVRfHn",
        "outputId": "314502cb-f6a5-4ed1-fecc-78ecbb433f59"
      },
      "source": [
        "%%sql \n",
        "SELECT \n",
        "    COUNT(DISTINCT indicator_code) AS total_indicatos\n",
        "FROM international_debt;"
      ],
      "execution_count": null,
      "outputs": [
        {
          "output_type": "stream",
          "text": [
            " * postgresql:///international_debt\n",
            "1 rows affected.\n"
          ],
          "name": "stdout"
        },
        {
          "output_type": "execute_result",
          "data": {
            "text/plain": [
              "[(25,)]"
            ],
            "text/html": [
              "<table>\n",
              "    <tr>\n",
              "        <th>total_indicatos</th>\n",
              "    </tr>\n",
              "    <tr>\n",
              "        <td>25</td>\n",
              "    </tr>\n",
              "</table>"
            ]
          },
          "metadata": {
            "tags": []
          },
          "execution_count": 3
        }
      ]
    },
    {
      "cell_type": "markdown",
      "metadata": {
        "id": "axCRizMgS174"
      },
      "source": [
        "<p>There are total of 25 different indicators present in the table. In the next cell we get these different indicators</p>"
      ]
    },
    {
      "cell_type": "code",
      "metadata": {
        "dc": {
          "key": "20"
        },
        "trusted": true,
        "id": "yFMI5B1zRfHr",
        "outputId": "8004cbc4-7cf3-4168-fe87-f57aaddbaf45"
      },
      "source": [
        "%%sql \n",
        "SELECT \n",
        "    DISTINCT indicator_code AS distinct_debt_indicators\n",
        "FROM international_debt\n",
        "ORDER BY distinct_debt_indicators;"
      ],
      "execution_count": null,
      "outputs": [
        {
          "output_type": "stream",
          "text": [
            " * postgresql:///international_debt\n",
            "25 rows affected.\n"
          ],
          "name": "stdout"
        },
        {
          "output_type": "execute_result",
          "data": {
            "text/plain": [
              "[('DT.AMT.BLAT.CD',),\n",
              " ('DT.AMT.DLXF.CD',),\n",
              " ('DT.AMT.DPNG.CD',),\n",
              " ('DT.AMT.MLAT.CD',),\n",
              " ('DT.AMT.OFFT.CD',),\n",
              " ('DT.AMT.PBND.CD',),\n",
              " ('DT.AMT.PCBK.CD',),\n",
              " ('DT.AMT.PROP.CD',),\n",
              " ('DT.AMT.PRVT.CD',),\n",
              " ('DT.DIS.BLAT.CD',),\n",
              " ('DT.DIS.DLXF.CD',),\n",
              " ('DT.DIS.MLAT.CD',),\n",
              " ('DT.DIS.OFFT.CD',),\n",
              " ('DT.DIS.PCBK.CD',),\n",
              " ('DT.DIS.PROP.CD',),\n",
              " ('DT.DIS.PRVT.CD',),\n",
              " ('DT.INT.BLAT.CD',),\n",
              " ('DT.INT.DLXF.CD',),\n",
              " ('DT.INT.DPNG.CD',),\n",
              " ('DT.INT.MLAT.CD',),\n",
              " ('DT.INT.OFFT.CD',),\n",
              " ('DT.INT.PBND.CD',),\n",
              " ('DT.INT.PCBK.CD',),\n",
              " ('DT.INT.PROP.CD',),\n",
              " ('DT.INT.PRVT.CD',)]"
            ],
            "text/html": [
              "<table>\n",
              "    <tr>\n",
              "        <th>distinct_debt_indicators</th>\n",
              "    </tr>\n",
              "    <tr>\n",
              "        <td>DT.AMT.BLAT.CD</td>\n",
              "    </tr>\n",
              "    <tr>\n",
              "        <td>DT.AMT.DLXF.CD</td>\n",
              "    </tr>\n",
              "    <tr>\n",
              "        <td>DT.AMT.DPNG.CD</td>\n",
              "    </tr>\n",
              "    <tr>\n",
              "        <td>DT.AMT.MLAT.CD</td>\n",
              "    </tr>\n",
              "    <tr>\n",
              "        <td>DT.AMT.OFFT.CD</td>\n",
              "    </tr>\n",
              "    <tr>\n",
              "        <td>DT.AMT.PBND.CD</td>\n",
              "    </tr>\n",
              "    <tr>\n",
              "        <td>DT.AMT.PCBK.CD</td>\n",
              "    </tr>\n",
              "    <tr>\n",
              "        <td>DT.AMT.PROP.CD</td>\n",
              "    </tr>\n",
              "    <tr>\n",
              "        <td>DT.AMT.PRVT.CD</td>\n",
              "    </tr>\n",
              "    <tr>\n",
              "        <td>DT.DIS.BLAT.CD</td>\n",
              "    </tr>\n",
              "    <tr>\n",
              "        <td>DT.DIS.DLXF.CD</td>\n",
              "    </tr>\n",
              "    <tr>\n",
              "        <td>DT.DIS.MLAT.CD</td>\n",
              "    </tr>\n",
              "    <tr>\n",
              "        <td>DT.DIS.OFFT.CD</td>\n",
              "    </tr>\n",
              "    <tr>\n",
              "        <td>DT.DIS.PCBK.CD</td>\n",
              "    </tr>\n",
              "    <tr>\n",
              "        <td>DT.DIS.PROP.CD</td>\n",
              "    </tr>\n",
              "    <tr>\n",
              "        <td>DT.DIS.PRVT.CD</td>\n",
              "    </tr>\n",
              "    <tr>\n",
              "        <td>DT.INT.BLAT.CD</td>\n",
              "    </tr>\n",
              "    <tr>\n",
              "        <td>DT.INT.DLXF.CD</td>\n",
              "    </tr>\n",
              "    <tr>\n",
              "        <td>DT.INT.DPNG.CD</td>\n",
              "    </tr>\n",
              "    <tr>\n",
              "        <td>DT.INT.MLAT.CD</td>\n",
              "    </tr>\n",
              "    <tr>\n",
              "        <td>DT.INT.OFFT.CD</td>\n",
              "    </tr>\n",
              "    <tr>\n",
              "        <td>DT.INT.PBND.CD</td>\n",
              "    </tr>\n",
              "    <tr>\n",
              "        <td>DT.INT.PCBK.CD</td>\n",
              "    </tr>\n",
              "    <tr>\n",
              "        <td>DT.INT.PROP.CD</td>\n",
              "    </tr>\n",
              "    <tr>\n",
              "        <td>DT.INT.PRVT.CD</td>\n",
              "    </tr>\n",
              "</table>"
            ]
          },
          "metadata": {
            "tags": []
          },
          "execution_count": 4
        }
      ]
    },
    {
      "cell_type": "markdown",
      "metadata": {
        "dc": {
          "key": "28"
        },
        "deletable": false,
        "editable": false,
        "run_control": {
          "frozen": true
        },
        "tags": [
          "context"
        ],
        "id": "VvtLGe8WRfHt"
      },
      "source": [
        "## 4. Totaling the amount of debt owed by the countries\n",
        "<p>The financial debt of a particular country represents its economic state and it's development.</p>\n",
        "<p>Total amount of debt (in USD) that is owed by the different countries is shown in the next cell. This will give us a sense of how the overall economy of the entire world is holding up.</p>"
      ]
    },
    {
      "cell_type": "code",
      "metadata": {
        "dc": {
          "key": "28"
        },
        "tags": [
          "sample_code"
        ],
        "trusted": true,
        "id": "4NJzz9L0RfHu",
        "outputId": "d7a94f08-bd52-460a-89d1-1a39b20a1735"
      },
      "source": [
        "%%sql\n",
        "SELECT \n",
        "    ROUND(SUM(debt/1000000),3) AS total_debt\n",
        "FROM international_debt; "
      ],
      "execution_count": null,
      "outputs": [
        {
          "output_type": "stream",
          "text": [
            " * postgresql:///international_debt\n",
            "1 rows affected.\n"
          ],
          "name": "stdout"
        },
        {
          "output_type": "execute_result",
          "data": {
            "text/plain": [
              "[(Decimal('3079734.488'),)]"
            ],
            "text/html": [
              "<table>\n",
              "    <tr>\n",
              "        <th>total_debt</th>\n",
              "    </tr>\n",
              "    <tr>\n",
              "        <td>3079734.488</td>\n",
              "    </tr>\n",
              "</table>"
            ]
          },
          "metadata": {
            "tags": []
          },
          "execution_count": 10
        }
      ]
    },
    {
      "cell_type": "markdown",
      "metadata": {
        "dc": {
          "key": "36"
        },
        "deletable": false,
        "editable": false,
        "run_control": {
          "frozen": true
        },
        "tags": [
          "context"
        ],
        "id": "2ZejbnQIRfHv"
      },
      "source": [
        "## 5. Country with the highest debt\n",
        "<p>That is more than <em>3 million <strong>million</strong></em> USD, an amount which is really a big number. </p>\n",
        "<p>Now that we have the exact total of the amounts of debt owed by several countries, let's now find out the country that owns the highest amount of debt along with the amount. \n",
        "<p>Debt is the sum of different debts owed by a country across several categories. This will help to understand more about the country in terms of its socio-economic scenarios.</p>"
      ]
    },
    {
      "cell_type": "code",
      "metadata": {
        "dc": {
          "key": "36"
        },
        "tags": [
          "sample_code"
        ],
        "trusted": true,
        "id": "ZM7ovGGcRfHv",
        "outputId": "f7d32d22-e277-43fe-90d9-c4dde591fd27"
      },
      "source": [
        "%%sql\n",
        "SELECT \n",
        "    country_name, ROUND(sum(debt),3) AS total_debt\n",
        "FROM international_debt\n",
        "GROUP BY country_name\n",
        "ORDER BY total_debt desc\n",
        "limit 10;"
      ],
      "execution_count": null,
      "outputs": [
        {
          "output_type": "stream",
          "text": [
            " * postgresql:///international_debt\n",
            "10 rows affected.\n"
          ],
          "name": "stdout"
        },
        {
          "output_type": "execute_result",
          "data": {
            "text/plain": [
              "[('China', Decimal('285793494734.200')),\n",
              " ('Brazil', Decimal('280623966140.800')),\n",
              " ('South Asia', Decimal('247608723990.600')),\n",
              " ('Least developed countries: UN classification', Decimal('212880992791.900')),\n",
              " ('Russian Federation', Decimal('191289057259.200')),\n",
              " ('IDA only', Decimal('179048127207.300')),\n",
              " ('Turkey', Decimal('151125758035.300')),\n",
              " ('India', Decimal('133627060958.400')),\n",
              " ('Mexico', Decimal('124596786217.300')),\n",
              " ('Indonesia', Decimal('113435696693.500'))]"
            ],
            "text/html": [
              "<table>\n",
              "    <tr>\n",
              "        <th>country_name</th>\n",
              "        <th>total_debt</th>\n",
              "    </tr>\n",
              "    <tr>\n",
              "        <td>China</td>\n",
              "        <td>285793494734.200</td>\n",
              "    </tr>\n",
              "    <tr>\n",
              "        <td>Brazil</td>\n",
              "        <td>280623966140.800</td>\n",
              "    </tr>\n",
              "    <tr>\n",
              "        <td>South Asia</td>\n",
              "        <td>247608723990.600</td>\n",
              "    </tr>\n",
              "    <tr>\n",
              "        <td>Least developed countries: UN classification</td>\n",
              "        <td>212880992791.900</td>\n",
              "    </tr>\n",
              "    <tr>\n",
              "        <td>Russian Federation</td>\n",
              "        <td>191289057259.200</td>\n",
              "    </tr>\n",
              "    <tr>\n",
              "        <td>IDA only</td>\n",
              "        <td>179048127207.300</td>\n",
              "    </tr>\n",
              "    <tr>\n",
              "        <td>Turkey</td>\n",
              "        <td>151125758035.300</td>\n",
              "    </tr>\n",
              "    <tr>\n",
              "        <td>India</td>\n",
              "        <td>133627060958.400</td>\n",
              "    </tr>\n",
              "    <tr>\n",
              "        <td>Mexico</td>\n",
              "        <td>124596786217.300</td>\n",
              "    </tr>\n",
              "    <tr>\n",
              "        <td>Indonesia</td>\n",
              "        <td>113435696693.500</td>\n",
              "    </tr>\n",
              "</table>"
            ]
          },
          "metadata": {
            "tags": []
          },
          "execution_count": 11
        }
      ]
    },
    {
      "cell_type": "markdown",
      "metadata": {
        "dc": {
          "key": "44"
        },
        "deletable": false,
        "editable": false,
        "run_control": {
          "frozen": true
        },
        "tags": [
          "context"
        ],
        "id": "pqwaBg_rRfHw"
      },
      "source": [
        "## 6. Average amount of debt across indicators\n",
        "<p>So, it was <em>China</em>. More details of the China's debts can be found <a href=\"https://datatopics.worldbank.org/debt/ids/country/CHN\">here</a>. </p>\n",
        "<p>We now have a brief overview of the dataset and a few of its summary statistics. We already have an idea of the different debt indicators in which the countries owe their debts. \n",
        "\n",
        "<p>Now in next cell we have output of average debt in different debt indicators</p>"
      ]
    },
    {
      "cell_type": "code",
      "metadata": {
        "dc": {
          "key": "44"
        },
        "tags": [
          "sample_code"
        ],
        "trusted": true,
        "id": "fIwSqMySRfHw",
        "outputId": "d6fc2780-9920-4455-bc29-3a24ffa3d17d"
      },
      "source": [
        "%%sql\n",
        "SELECT \n",
        "    indicator_code AS debt_indicator,\n",
        "    indicator_name,\n",
        "    AVG(debt) AS average_debt\n",
        "FROM international_debt\n",
        "GROUP BY debt_indicator,indicator_name\n",
        "ORDER BY average_debt DESC\n",
        "limit 10;"
      ],
      "execution_count": null,
      "outputs": [
        {
          "output_type": "stream",
          "text": [
            " * postgresql:///international_debt\n",
            "10 rows affected.\n"
          ],
          "name": "stdout"
        },
        {
          "output_type": "execute_result",
          "data": {
            "text/plain": [
              "[('DT.AMT.DLXF.CD', 'Principal repayments on external debt, long-term (AMT, current US$)', Decimal('5904868401.499193612')),\n",
              " ('DT.AMT.DPNG.CD', 'Principal repayments on external debt, private nonguaranteed (PNG) (AMT, current US$)', Decimal('5161194333.812658349')),\n",
              " ('DT.DIS.DLXF.CD', 'Disbursements on external debt, long-term (DIS, current US$)', Decimal('2152041216.890243888')),\n",
              " ('DT.DIS.OFFT.CD', 'PPG, official creditors (DIS, current US$)', Decimal('1958983452.859836046')),\n",
              " ('DT.AMT.PRVT.CD', 'PPG, private creditors (AMT, current US$)', Decimal('1803694101.963265321')),\n",
              " ('DT.INT.DLXF.CD', 'Interest payments on external debt, long-term (INT, current US$)', Decimal('1644024067.650806481')),\n",
              " ('DT.DIS.BLAT.CD', 'PPG, bilateral (DIS, current US$)', Decimal('1223139290.398230108')),\n",
              " ('DT.INT.DPNG.CD', 'Interest payments on external debt, private nonguaranteed (PNG) (INT, current US$)', Decimal('1220410844.421518983')),\n",
              " ('DT.AMT.OFFT.CD', 'PPG, official creditors (AMT, current US$)', Decimal('1191187963.083064523')),\n",
              " ('DT.AMT.PBND.CD', 'PPG, bonds (AMT, current US$)', Decimal('1082623947.653623188'))]"
            ],
            "text/html": [
              "<table>\n",
              "    <tr>\n",
              "        <th>debt_indicator</th>\n",
              "        <th>indicator_name</th>\n",
              "        <th>average_debt</th>\n",
              "    </tr>\n",
              "    <tr>\n",
              "        <td>DT.AMT.DLXF.CD</td>\n",
              "        <td>Principal repayments on external debt, long-term (AMT, current US$)</td>\n",
              "        <td>5904868401.499193612</td>\n",
              "    </tr>\n",
              "    <tr>\n",
              "        <td>DT.AMT.DPNG.CD</td>\n",
              "        <td>Principal repayments on external debt, private nonguaranteed (PNG) (AMT, current US$)</td>\n",
              "        <td>5161194333.812658349</td>\n",
              "    </tr>\n",
              "    <tr>\n",
              "        <td>DT.DIS.DLXF.CD</td>\n",
              "        <td>Disbursements on external debt, long-term (DIS, current US$)</td>\n",
              "        <td>2152041216.890243888</td>\n",
              "    </tr>\n",
              "    <tr>\n",
              "        <td>DT.DIS.OFFT.CD</td>\n",
              "        <td>PPG, official creditors (DIS, current US$)</td>\n",
              "        <td>1958983452.859836046</td>\n",
              "    </tr>\n",
              "    <tr>\n",
              "        <td>DT.AMT.PRVT.CD</td>\n",
              "        <td>PPG, private creditors (AMT, current US$)</td>\n",
              "        <td>1803694101.963265321</td>\n",
              "    </tr>\n",
              "    <tr>\n",
              "        <td>DT.INT.DLXF.CD</td>\n",
              "        <td>Interest payments on external debt, long-term (INT, current US$)</td>\n",
              "        <td>1644024067.650806481</td>\n",
              "    </tr>\n",
              "    <tr>\n",
              "        <td>DT.DIS.BLAT.CD</td>\n",
              "        <td>PPG, bilateral (DIS, current US$)</td>\n",
              "        <td>1223139290.398230108</td>\n",
              "    </tr>\n",
              "    <tr>\n",
              "        <td>DT.INT.DPNG.CD</td>\n",
              "        <td>Interest payments on external debt, private nonguaranteed (PNG) (INT, current US$)</td>\n",
              "        <td>1220410844.421518983</td>\n",
              "    </tr>\n",
              "    <tr>\n",
              "        <td>DT.AMT.OFFT.CD</td>\n",
              "        <td>PPG, official creditors (AMT, current US$)</td>\n",
              "        <td>1191187963.083064523</td>\n",
              "    </tr>\n",
              "    <tr>\n",
              "        <td>DT.AMT.PBND.CD</td>\n",
              "        <td>PPG, bonds (AMT, current US$)</td>\n",
              "        <td>1082623947.653623188</td>\n",
              "    </tr>\n",
              "</table>"
            ]
          },
          "metadata": {
            "tags": []
          },
          "execution_count": 12
        }
      ]
    },
    {
      "cell_type": "markdown",
      "metadata": {
        "dc": {
          "key": "52"
        },
        "deletable": false,
        "editable": false,
        "run_control": {
          "frozen": true
        },
        "tags": [
          "context"
        ],
        "id": "LSwNcKG3RfHx"
      },
      "source": [
        "## 7. The highest amount of principal repayments\n",
        "<p>We can see that the indicator <code>DT.AMT.DLXF.CD</code> tops the chart of average debt. This category means repayment of long term debts. More information about this category can be found <a href=\"https://datacatalog.worldbank.org/principal-repayments-external-debt-long-term-amt-current-us-0\">here</a>. </p>\n",
        "\n",
        "<p>We can clearly observe that there is a huge difference in the amounts of the indicators after the second one. Meaning that the first two indicators might be the most severe categories in which the countries owe their debts.</p>\n",
        "\n",
        "<p>So in the next cell we investigate the long term debt indicator DT.AMT.DLXF.CD</p>"
      ]
    },
    {
      "cell_type": "code",
      "metadata": {
        "dc": {
          "key": "52"
        },
        "tags": [
          "sample_code"
        ],
        "trusted": true,
        "scrolled": true,
        "id": "hh-dfUtfRfHx",
        "outputId": "e14190a2-7f3d-4910-a9f1-fa2214c22ed0"
      },
      "source": [
        "%%sql\n",
        "SELECT \n",
        "    country_name, \n",
        "    indicator_name\n",
        "FROM international_debt\n",
        "WHERE debt = (SELECT \n",
        "                 max(debt)\n",
        "             FROM international_debt\n",
        "             where indicator_code='DT.AMT.DLXF.CD');"
      ],
      "execution_count": null,
      "outputs": [
        {
          "output_type": "stream",
          "text": [
            " * postgresql:///international_debt\n",
            "1 rows affected.\n"
          ],
          "name": "stdout"
        },
        {
          "output_type": "execute_result",
          "data": {
            "text/plain": [
              "[('China', 'Principal repayments on external debt, long-term (AMT, current US$)')]"
            ],
            "text/html": [
              "<table>\n",
              "    <tr>\n",
              "        <th>country_name</th>\n",
              "        <th>indicator_name</th>\n",
              "    </tr>\n",
              "    <tr>\n",
              "        <td>China</td>\n",
              "        <td>Principal repayments on external debt, long-term (AMT, current US$)</td>\n",
              "    </tr>\n",
              "</table>"
            ]
          },
          "metadata": {
            "tags": []
          },
          "execution_count": 9
        }
      ]
    },
    {
      "cell_type": "markdown",
      "metadata": {
        "dc": {
          "key": "60"
        },
        "deletable": false,
        "editable": false,
        "run_control": {
          "frozen": true
        },
        "tags": [
          "context"
        ],
        "id": "dowAPJbARfHy"
      },
      "source": [
        "## 8. The most common debt indicator\n",
        "<p>China has the highest amount of debt in the long-term debt (<code>DT.AMT.DLXF.CD</code>) category. This is verified by <a href=\"https://data.worldbank.org/indicator/DT.AMT.DLXF.CD?end=2018&most_recent_value_desc=true\">The World Bank</a>. It is often a good idea to verify our analyses like this since it validates that our investigations are correct. </p>\n",
        "<p>long-term debt is the topmost category when it comes to the average amount of debt. We will see in next cell if it is the most common indicator in which the countries owe their debt </p>"
      ]
    },
    {
      "cell_type": "code",
      "metadata": {
        "dc": {
          "key": "60"
        },
        "tags": [
          "sample_code"
        ],
        "trusted": true,
        "id": "_Ruu9mPcRfHy",
        "outputId": "0a073a6e-f094-45ca-a8a6-dc80b0481eff"
      },
      "source": [
        "%%sql\n",
        "\n",
        "SELECT \n",
        "    indicator_code,\n",
        "    COUNT(indicator_code) AS indicator_count\n",
        "FROM international_debt\n",
        "GROUP BY indicator_code\n",
        "ORDER BY indicator_count DESC, indicator_code DESC\n",
        "LIMIT 20;"
      ],
      "execution_count": null,
      "outputs": [
        {
          "output_type": "stream",
          "text": [
            " * postgresql:///international_debt\n",
            "20 rows affected.\n"
          ],
          "name": "stdout"
        },
        {
          "output_type": "execute_result",
          "data": {
            "text/plain": [
              "[('DT.INT.OFFT.CD', 124),\n",
              " ('DT.INT.MLAT.CD', 124),\n",
              " ('DT.INT.DLXF.CD', 124),\n",
              " ('DT.AMT.OFFT.CD', 124),\n",
              " ('DT.AMT.MLAT.CD', 124),\n",
              " ('DT.AMT.DLXF.CD', 124),\n",
              " ('DT.DIS.DLXF.CD', 123),\n",
              " ('DT.INT.BLAT.CD', 122),\n",
              " ('DT.DIS.OFFT.CD', 122),\n",
              " ('DT.AMT.BLAT.CD', 122),\n",
              " ('DT.DIS.MLAT.CD', 120),\n",
              " ('DT.DIS.BLAT.CD', 113),\n",
              " ('DT.INT.PRVT.CD', 98),\n",
              " ('DT.AMT.PRVT.CD', 98),\n",
              " ('DT.INT.PCBK.CD', 84),\n",
              " ('DT.AMT.PCBK.CD', 84),\n",
              " ('DT.INT.DPNG.CD', 79),\n",
              " ('DT.AMT.DPNG.CD', 79),\n",
              " ('DT.INT.PBND.CD', 69),\n",
              " ('DT.AMT.PBND.CD', 69)]"
            ],
            "text/html": [
              "<table>\n",
              "    <tr>\n",
              "        <th>indicator_code</th>\n",
              "        <th>indicator_count</th>\n",
              "    </tr>\n",
              "    <tr>\n",
              "        <td>DT.INT.OFFT.CD</td>\n",
              "        <td>124</td>\n",
              "    </tr>\n",
              "    <tr>\n",
              "        <td>DT.INT.MLAT.CD</td>\n",
              "        <td>124</td>\n",
              "    </tr>\n",
              "    <tr>\n",
              "        <td>DT.INT.DLXF.CD</td>\n",
              "        <td>124</td>\n",
              "    </tr>\n",
              "    <tr>\n",
              "        <td>DT.AMT.OFFT.CD</td>\n",
              "        <td>124</td>\n",
              "    </tr>\n",
              "    <tr>\n",
              "        <td>DT.AMT.MLAT.CD</td>\n",
              "        <td>124</td>\n",
              "    </tr>\n",
              "    <tr>\n",
              "        <td>DT.AMT.DLXF.CD</td>\n",
              "        <td>124</td>\n",
              "    </tr>\n",
              "    <tr>\n",
              "        <td>DT.DIS.DLXF.CD</td>\n",
              "        <td>123</td>\n",
              "    </tr>\n",
              "    <tr>\n",
              "        <td>DT.INT.BLAT.CD</td>\n",
              "        <td>122</td>\n",
              "    </tr>\n",
              "    <tr>\n",
              "        <td>DT.DIS.OFFT.CD</td>\n",
              "        <td>122</td>\n",
              "    </tr>\n",
              "    <tr>\n",
              "        <td>DT.AMT.BLAT.CD</td>\n",
              "        <td>122</td>\n",
              "    </tr>\n",
              "    <tr>\n",
              "        <td>DT.DIS.MLAT.CD</td>\n",
              "        <td>120</td>\n",
              "    </tr>\n",
              "    <tr>\n",
              "        <td>DT.DIS.BLAT.CD</td>\n",
              "        <td>113</td>\n",
              "    </tr>\n",
              "    <tr>\n",
              "        <td>DT.INT.PRVT.CD</td>\n",
              "        <td>98</td>\n",
              "    </tr>\n",
              "    <tr>\n",
              "        <td>DT.AMT.PRVT.CD</td>\n",
              "        <td>98</td>\n",
              "    </tr>\n",
              "    <tr>\n",
              "        <td>DT.INT.PCBK.CD</td>\n",
              "        <td>84</td>\n",
              "    </tr>\n",
              "    <tr>\n",
              "        <td>DT.AMT.PCBK.CD</td>\n",
              "        <td>84</td>\n",
              "    </tr>\n",
              "    <tr>\n",
              "        <td>DT.INT.DPNG.CD</td>\n",
              "        <td>79</td>\n",
              "    </tr>\n",
              "    <tr>\n",
              "        <td>DT.AMT.DPNG.CD</td>\n",
              "        <td>79</td>\n",
              "    </tr>\n",
              "    <tr>\n",
              "        <td>DT.INT.PBND.CD</td>\n",
              "        <td>69</td>\n",
              "    </tr>\n",
              "    <tr>\n",
              "        <td>DT.AMT.PBND.CD</td>\n",
              "        <td>69</td>\n",
              "    </tr>\n",
              "</table>"
            ]
          },
          "metadata": {
            "tags": []
          },
          "execution_count": 40
        }
      ]
    },
    {
      "cell_type": "markdown",
      "metadata": {
        "dc": {
          "key": "68"
        },
        "deletable": false,
        "editable": false,
        "run_control": {
          "frozen": true
        },
        "tags": [
          "context"
        ],
        "id": "fJnSowCqRfHy"
      },
      "source": [
        "## 9. Other viable debt issues and conclusion\n",
        "<p>There are a total of six debt indicators in which all the countries listed in our dataset have taken debt. The indicator <code>DT.AMT.DLXF.CD</code> is also there in the list. So, this gives us a clue that all these countries are suffering from a common economic issue</p>\n",
        "<p>Now finding the debt indicators in which a country owes its highest debt. </p>\n",
        "<p>So we took a look at debt owed by countries across the globe. We extracted a few summary statistics from the data and unraveled some interesting facts and figures.</p>"
      ]
    },
    {
      "cell_type": "code",
      "metadata": {
        "dc": {
          "key": "68"
        },
        "tags": [
          "sample_code"
        ],
        "trusted": true,
        "id": "aBb1F2T2RfHy",
        "outputId": "4c07f22e-52e7-495d-a26c-2b5593fe6fb1"
      },
      "source": [
        "%%sql\n",
        "select country_name,\n",
        "indicator_code,\n",
        "max(debt) as maximum_debt\n",
        "from international_debt\n",
        "group by country_name,indicator_code\n",
        "order by maximum_debt desc\n",
        "limit 10;"
      ],
      "execution_count": null,
      "outputs": [
        {
          "output_type": "stream",
          "text": [
            " * postgresql:///international_debt\n",
            "10 rows affected.\n"
          ],
          "name": "stdout"
        },
        {
          "output_type": "execute_result",
          "data": {
            "text/plain": [
              "[('China', 'DT.AMT.DLXF.CD', Decimal('96218620835.699996948')),\n",
              " ('Brazil', 'DT.AMT.DLXF.CD', Decimal('90041840304.100006104')),\n",
              " ('China', 'DT.AMT.DPNG.CD', Decimal('72392986213.800003052')),\n",
              " ('Russian Federation', 'DT.AMT.DLXF.CD', Decimal('66589761833.5')),\n",
              " ('Turkey', 'DT.AMT.DLXF.CD', Decimal('51555031005.800003052')),\n",
              " ('South Asia', 'DT.AMT.DLXF.CD', Decimal('48756295898.199996948')),\n",
              " ('Brazil', 'DT.AMT.PRVT.CD', Decimal('43598697498.599998474')),\n",
              " ('Russian Federation', 'DT.AMT.DPNG.CD', Decimal('42800154974.900001526')),\n",
              " ('Brazil', 'DT.AMT.DPNG.CD', Decimal('41831444053.300003052')),\n",
              " ('Least developed countries: UN classification', 'DT.DIS.DLXF.CD', Decimal('40160766261.599998474'))]"
            ],
            "text/html": [
              "<table>\n",
              "    <tr>\n",
              "        <th>country_name</th>\n",
              "        <th>indicator_code</th>\n",
              "        <th>maximum_debt</th>\n",
              "    </tr>\n",
              "    <tr>\n",
              "        <td>China</td>\n",
              "        <td>DT.AMT.DLXF.CD</td>\n",
              "        <td>96218620835.699996948</td>\n",
              "    </tr>\n",
              "    <tr>\n",
              "        <td>Brazil</td>\n",
              "        <td>DT.AMT.DLXF.CD</td>\n",
              "        <td>90041840304.100006104</td>\n",
              "    </tr>\n",
              "    <tr>\n",
              "        <td>China</td>\n",
              "        <td>DT.AMT.DPNG.CD</td>\n",
              "        <td>72392986213.800003052</td>\n",
              "    </tr>\n",
              "    <tr>\n",
              "        <td>Russian Federation</td>\n",
              "        <td>DT.AMT.DLXF.CD</td>\n",
              "        <td>66589761833.5</td>\n",
              "    </tr>\n",
              "    <tr>\n",
              "        <td>Turkey</td>\n",
              "        <td>DT.AMT.DLXF.CD</td>\n",
              "        <td>51555031005.800003052</td>\n",
              "    </tr>\n",
              "    <tr>\n",
              "        <td>South Asia</td>\n",
              "        <td>DT.AMT.DLXF.CD</td>\n",
              "        <td>48756295898.199996948</td>\n",
              "    </tr>\n",
              "    <tr>\n",
              "        <td>Brazil</td>\n",
              "        <td>DT.AMT.PRVT.CD</td>\n",
              "        <td>43598697498.599998474</td>\n",
              "    </tr>\n",
              "    <tr>\n",
              "        <td>Russian Federation</td>\n",
              "        <td>DT.AMT.DPNG.CD</td>\n",
              "        <td>42800154974.900001526</td>\n",
              "    </tr>\n",
              "    <tr>\n",
              "        <td>Brazil</td>\n",
              "        <td>DT.AMT.DPNG.CD</td>\n",
              "        <td>41831444053.300003052</td>\n",
              "    </tr>\n",
              "    <tr>\n",
              "        <td>Least developed countries: UN classification</td>\n",
              "        <td>DT.DIS.DLXF.CD</td>\n",
              "        <td>40160766261.599998474</td>\n",
              "    </tr>\n",
              "</table>"
            ]
          },
          "metadata": {
            "tags": []
          },
          "execution_count": 41
        }
      ]
    }
  ]
}
