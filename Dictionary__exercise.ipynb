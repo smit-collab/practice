{
  "nbformat": 4,
  "nbformat_minor": 0,
  "metadata": {
    "colab": {
      "name": "Dictionary _exercise.ipynb",
      "provenance": [],
      "collapsed_sections": [],
      "toc_visible": true,
      "authorship_tag": "ABX9TyNp1opXxNQHq0SQuUKOhzZe",
      "include_colab_link": true
    },
    "kernelspec": {
      "name": "python3",
      "display_name": "Python 3"
    },
    "language_info": {
      "name": "python"
    }
  },
  "cells": [
    {
      "cell_type": "markdown",
      "metadata": {
        "id": "view-in-github",
        "colab_type": "text"
      },
      "source": [
        "<a href=\"https://colab.research.google.com/github/smit-collab/practice/blob/main/Dictionary__exercise.ipynb\" target=\"_parent\"><img src=\"https://colab.research.google.com/assets/colab-badge.svg\" alt=\"Open In Colab\"/></a>"
      ]
    },
    {
      "cell_type": "markdown",
      "metadata": {
        "id": "ZUEUUlf1ypjO"
      },
      "source": [
        "### A dictionary object is mutable in Python. Python dictionary contains the data in the form of key-value pairs."
      ]
    },
    {
      "cell_type": "markdown",
      "metadata": {
        "id": "Cb9s1cnSQCa7"
      },
      "source": [
        "### convert list to dictionaries "
      ]
    },
    {
      "cell_type": "code",
      "metadata": {
        "colab": {
          "base_uri": "https://localhost:8080/"
        },
        "id": "FV2sL8FZPnTL",
        "outputId": "cb7495b0-7d22-4684-a618-61a88a8eba09"
      },
      "source": [
        "keys = [\"one\",\"two\"]\n",
        "value = [1,2]\n",
        "\n",
        "sample_dict = dict(zip(keys,value))\n",
        "sample_dict"
      ],
      "execution_count": 1,
      "outputs": [
        {
          "output_type": "execute_result",
          "data": {
            "text/plain": [
              "{'one': 1, 'two': 2}"
            ]
          },
          "metadata": {
            "tags": []
          },
          "execution_count": 1
        }
      ]
    },
    {
      "cell_type": "markdown",
      "metadata": {
        "id": "v6DvW4lLbiAY"
      },
      "source": [
        "merge two dictionaries "
      ]
    },
    {
      "cell_type": "code",
      "metadata": {
        "colab": {
          "base_uri": "https://localhost:8080/"
        },
        "id": "VZ6hJzVhbiKc",
        "outputId": "24ee58e2-b1c2-4821-86c5-0fc4e9398723"
      },
      "source": [
        "dict1 = {'Ten': 10, 'Twenty': 20, 'Thirty': 30}\n",
        "dict2 = {'Thirty': 30, 'Fourty': 40, 'Fifty': 50}\n",
        "\n",
        "dict3 = {**dict1,**dict2}\n",
        "print(\"Using new python ver:  \",dict3)\n",
        "\n",
        "# or\n",
        "dict4 = dict1.copy()\n",
        "dict4.update(dict2)\n",
        "print(\"Using old python ver:  \",dict4)"
      ],
      "execution_count": 2,
      "outputs": [
        {
          "output_type": "stream",
          "text": [
            "Using new python ver:   {'Ten': 10, 'Twenty': 20, 'Thirty': 30, 'Fourty': 40, 'Fifty': 50}\n",
            "Using old python ver:   {'Ten': 10, 'Twenty': 20, 'Thirty': 30, 'Fourty': 40, 'Fifty': 50}\n"
          ],
          "name": "stdout"
        }
      ]
    },
    {
      "cell_type": "markdown",
      "metadata": {
        "id": "slLWqt-fb1OR"
      },
      "source": [
        "### Access the value of key ‘history’ "
      ]
    },
    {
      "cell_type": "code",
      "metadata": {
        "colab": {
          "base_uri": "https://localhost:8080/"
        },
        "id": "_2jCHjTZb1Yx",
        "outputId": "dc620228-7ff9-480f-d33b-65b075c27dfc"
      },
      "source": [
        "sampleDict1 = { \n",
        "   \"class\":{ \n",
        "      \"student\":{ \n",
        "         \"name\":\"Mike\",\n",
        "         \"marks\":{ \n",
        "            \"physics\":70,\n",
        "            \"history\":80\n",
        "         }\n",
        "      }\n",
        "   }\n",
        "}\n",
        "\n",
        "sampleDict1[\"class\"][\"student\"][\"marks\"][\"history\"]"
      ],
      "execution_count": 3,
      "outputs": [
        {
          "output_type": "execute_result",
          "data": {
            "text/plain": [
              "80"
            ]
          },
          "metadata": {
            "tags": []
          },
          "execution_count": 3
        }
      ]
    },
    {
      "cell_type": "markdown",
      "metadata": {
        "id": "6hFv1jAocrbu"
      },
      "source": [
        "### Create a new dictionary by extracting the following keys from a below dictionary"
      ]
    },
    {
      "cell_type": "code",
      "metadata": {
        "colab": {
          "base_uri": "https://localhost:8080/"
        },
        "id": "D9TAJjRFcrkp",
        "outputId": "93bb7d15-1961-4bb2-cb47-1c05f7cb177e"
      },
      "source": [
        "sampleDict2 = {\n",
        "  \"name\": \"Dwight\",\n",
        "  \"age\":25,\n",
        "  \"salary\": 8000,\n",
        "  \"city\": \"New york\"\n",
        "  \n",
        "}\n",
        "\n",
        "keys=['name','salary']\n",
        "\n",
        "newDict = {k:sampleDict2[k] for k in keys} \n",
        "newDict"
      ],
      "execution_count": 4,
      "outputs": [
        {
          "output_type": "execute_result",
          "data": {
            "text/plain": [
              "{'name': 'Dwight', 'salary': 8000}"
            ]
          },
          "metadata": {
            "tags": []
          },
          "execution_count": 4
        }
      ]
    },
    {
      "cell_type": "markdown",
      "metadata": {
        "id": "JSECuaoqhux3"
      },
      "source": [
        "### Removing keys"
      ]
    },
    {
      "cell_type": "code",
      "metadata": {
        "colab": {
          "base_uri": "https://localhost:8080/"
        },
        "id": "xZNwhT-0hu72",
        "outputId": "c50273d4-5d70-401a-8abf-4d1bfb98ac09"
      },
      "source": [
        "sampleDict3 = {\n",
        "  \"name\": \"Dwight\",\n",
        "  \"age\":25,\n",
        "  \"salary\": 8000,\n",
        "  \"city\": \"New york\"\n",
        "}\n",
        "\n",
        "keys=['name','salary']\n",
        "\n",
        "newDict1 = {k:sampleDict3[k] for k in sampleDict3.keys()-keys} \n",
        "newDict1"
      ],
      "execution_count": 5,
      "outputs": [
        {
          "output_type": "execute_result",
          "data": {
            "text/plain": [
              "{'age': 25, 'city': 'New york'}"
            ]
          },
          "metadata": {
            "tags": []
          },
          "execution_count": 5
        }
      ]
    },
    {
      "cell_type": "markdown",
      "metadata": {
        "id": "iqm7OIv1pOMs"
      },
      "source": [
        "### Check for a value"
      ]
    },
    {
      "cell_type": "code",
      "metadata": {
        "colab": {
          "base_uri": "https://localhost:8080/"
        },
        "id": "SmXoOTzvpOZq",
        "outputId": "ce33cdb7-a878-47e6-c9b0-36100da10101"
      },
      "source": [
        "sampleDict4 = {'a': 100, 'b': 200, 'c': 300}\n",
        "print(200 in sampleDict4.values())"
      ],
      "execution_count": 9,
      "outputs": [
        {
          "output_type": "stream",
          "text": [
            "True\n"
          ],
          "name": "stdout"
        }
      ]
    },
    {
      "cell_type": "markdown",
      "metadata": {
        "id": "FpW_Gxr4pxxa"
      },
      "source": [
        "### Rename key"
      ]
    },
    {
      "cell_type": "code",
      "metadata": {
        "colab": {
          "base_uri": "https://localhost:8080/"
        },
        "id": "hx6Hdj4KpyBo",
        "outputId": "7485ad88-ae0a-4b7b-cbdb-1e4324b96991"
      },
      "source": [
        "sampleDict5 = {\n",
        "  \"name\": \"Kelly\",\n",
        "  \"age\":25,\n",
        "  \"salary\": 8000,\n",
        "  \"city\": \"New york\"\n",
        "}\n",
        "\n",
        "sampleDict5[\"location\"] = sampleDict5.pop(\"city\")\n",
        "sampleDict5"
      ],
      "execution_count": 12,
      "outputs": [
        {
          "output_type": "execute_result",
          "data": {
            "text/plain": [
              "{'age': 25, 'location': 'New york', 'name': 'Kelly', 'salary': 8000}"
            ]
          },
          "metadata": {
            "tags": []
          },
          "execution_count": 12
        }
      ]
    },
    {
      "cell_type": "markdown",
      "metadata": {
        "id": "QbDnkCBlqx5e"
      },
      "source": [
        "### Get key of min value"
      ]
    },
    {
      "cell_type": "code",
      "metadata": {
        "colab": {
          "base_uri": "https://localhost:8080/",
          "height": 36
        },
        "id": "IqT3lbmGqyUt",
        "outputId": "fa39559a-2150-46a5-ced8-db135d043f76"
      },
      "source": [
        "sampleDict6 = {\n",
        "  'Physics': 82,\n",
        "  'Math': 65,\n",
        "  'history': 75\n",
        "}\n",
        "\n",
        "\n",
        "\n",
        "min(sampleDict6,key=sampleDict6.get)"
      ],
      "execution_count": 18,
      "outputs": [
        {
          "output_type": "execute_result",
          "data": {
            "application/vnd.google.colaboratory.intrinsic+json": {
              "type": "string"
            },
            "text/plain": [
              "'Math'"
            ]
          },
          "metadata": {
            "tags": []
          },
          "execution_count": 18
        }
      ]
    },
    {
      "cell_type": "markdown",
      "metadata": {
        "id": "M_60GN07yO38"
      },
      "source": [
        "### Change a value in dict"
      ]
    },
    {
      "cell_type": "code",
      "metadata": {
        "colab": {
          "base_uri": "https://localhost:8080/"
        },
        "id": "9nwWfWF-yPCO",
        "outputId": "354e41d4-7129-4e9f-cb99-4b9cbe4d3c34"
      },
      "source": [
        "sampleDict7 = {\n",
        "     'emp1': {'name': 'Jhon', 'salary': 7500},\n",
        "     'emp2': {'name': 'Emma', 'salary': 8000},\n",
        "     'emp3': {'name': 'Brad', 'salary': 6500}\n",
        "}\n",
        "\n",
        "sampleDict7[\"emp3\"]['salary']=8500\n",
        "print(sampleDict7)\n"
      ],
      "execution_count": 23,
      "outputs": [
        {
          "output_type": "stream",
          "text": [
            "{'emp1': {'name': 'Jhon', 'salary': 7500}, 'emp2': {'name': 'Emma', 'salary': 8000}, 'emp3': {'name': 'Brad', 'salary': 8500}}\n"
          ],
          "name": "stdout"
        }
      ]
    }
  ]
}