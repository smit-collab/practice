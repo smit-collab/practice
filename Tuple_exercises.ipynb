{
  "nbformat": 4,
  "nbformat_minor": 0,
  "metadata": {
    "colab": {
      "name": "Tuple_exercises.ipynb",
      "provenance": [],
      "collapsed_sections": [],
      "authorship_tag": "ABX9TyO4C1z+f8vk4ChuQbsKQuXb",
      "include_colab_link": true
    },
    "kernelspec": {
      "name": "python3",
      "display_name": "Python 3"
    },
    "language_info": {
      "name": "python"
    }
  },
  "cells": [
    {
      "cell_type": "markdown",
      "metadata": {
        "id": "view-in-github",
        "colab_type": "text"
      },
      "source": [
        "<a href=\"https://colab.research.google.com/github/smit-collab/practice/blob/main/Tuple_exercises.ipynb\" target=\"_parent\"><img src=\"https://colab.research.google.com/assets/colab-badge.svg\" alt=\"Open In Colab\"/></a>"
      ]
    },
    {
      "cell_type": "markdown",
      "metadata": {
        "id": "n8opwQ9nEbBt"
      },
      "source": [
        "##### A tuple is an immutable object in Python that can’t be changed."
      ]
    },
    {
      "cell_type": "markdown",
      "metadata": {
        "id": "H97sYBblEM8G"
      },
      "source": [
        "### Reverse Tuple"
      ]
    },
    {
      "cell_type": "code",
      "metadata": {
        "colab": {
          "base_uri": "https://localhost:8080/"
        },
        "id": "nAcB2bzJEN_v",
        "outputId": "3d8142ca-4a22-44ff-b5e5-98c6af072184"
      },
      "source": [
        "# tuples are immutable, thus it cannot be changed or altered. so we need to use other methods like slicing\n",
        "\n",
        "a_tuple = (10,20,30,40,50)\n",
        "reverse_tuple = a_tuple[::-1]\n",
        "print(\"Normal tuple : \",a_tuple)\n",
        "print(\"reverse tuple: \",reverse_tuple)"
      ],
      "execution_count": 12,
      "outputs": [
        {
          "output_type": "stream",
          "text": [
            "Normal tuple :  (10, 20, 30, 40, 50)\n",
            "reverse tuple:  (50, 40, 30, 20, 10)\n"
          ],
          "name": "stdout"
        }
      ]
    },
    {
      "cell_type": "markdown",
      "metadata": {
        "id": "LPa0jbFfFQwM"
      },
      "source": [
        "### Access a value  from the following tuple"
      ]
    },
    {
      "cell_type": "code",
      "metadata": {
        "colab": {
          "base_uri": "https://localhost:8080/"
        },
        "id": "8XJeG00nFQ_J",
        "outputId": "19479579-7c01-4cf0-9bae-d7420479bb85"
      },
      "source": [
        "bTuple = (\"Orange\", [10, 20, 30], (5, 15, 25))\n",
        "print(bTuple[1][1])"
      ],
      "execution_count": 14,
      "outputs": [
        {
          "output_type": "stream",
          "text": [
            "20\n"
          ],
          "name": "stdout"
        }
      ]
    },
    {
      "cell_type": "markdown",
      "metadata": {
        "id": "FcsJ81BCHKM2"
      },
      "source": [
        "### Creating a tuple with single item "
      ]
    },
    {
      "cell_type": "code",
      "metadata": {
        "colab": {
          "base_uri": "https://localhost:8080/"
        },
        "id": "_mHNxpkxHKcO",
        "outputId": "e5d7086b-cd8a-4036-e5e0-0c03195a946f"
      },
      "source": [
        "cTuple = (20,)\n",
        "cTuple"
      ],
      "execution_count": 15,
      "outputs": [
        {
          "output_type": "execute_result",
          "data": {
            "text/plain": [
              "(20,)"
            ]
          },
          "metadata": {
            "tags": []
          },
          "execution_count": 15
        }
      ]
    },
    {
      "cell_type": "markdown",
      "metadata": {
        "id": "-AuODI2OH1G8"
      },
      "source": [
        "### Unpacking the tuple into variables"
      ]
    },
    {
      "cell_type": "code",
      "metadata": {
        "colab": {
          "base_uri": "https://localhost:8080/"
        },
        "id": "1o5f1__uH1R5",
        "outputId": "ce008567-c886-4418-acbd-d506133c761a"
      },
      "source": [
        "dTuple = (10, 20, 30, 40)\n",
        "a,b,c,d = dTuple\n",
        "print(a)\n",
        "print(b)\n",
        "print(c)\n",
        "print(d)"
      ],
      "execution_count": 16,
      "outputs": [
        {
          "output_type": "stream",
          "text": [
            "10\n",
            "20\n",
            "30\n",
            "40\n"
          ],
          "name": "stdout"
        }
      ]
    },
    {
      "cell_type": "markdown",
      "metadata": {
        "id": "PoevBVEhIcAu"
      },
      "source": [
        "### Swapping the tuples"
      ]
    },
    {
      "cell_type": "code",
      "metadata": {
        "colab": {
          "base_uri": "https://localhost:8080/"
        },
        "id": "UBIvLf8HIcMW",
        "outputId": "6f6a5494-56d1-4d18-edbf-d9c05ba078b2"
      },
      "source": [
        "tuple1 = (1,2,3)\n",
        "tuple2 = (2,3,4)\n",
        "tuple1,tuple2 = tuple2,tuple1\n",
        "print(tuple1)\n",
        "print(tuple2)"
      ],
      "execution_count": 17,
      "outputs": [
        {
          "output_type": "stream",
          "text": [
            "(2, 3, 4)\n",
            "(1, 2, 3)\n"
          ],
          "name": "stdout"
        }
      ]
    },
    {
      "cell_type": "markdown",
      "metadata": {
        "id": "ktZK-c_MI6fB"
      },
      "source": [
        "### Copying a element into new tuple"
      ]
    },
    {
      "cell_type": "code",
      "metadata": {
        "colab": {
          "base_uri": "https://localhost:8080/"
        },
        "id": "aFslz7IpI6pd",
        "outputId": "b89657a0-f819-4e40-f6d8-33cc89b3a6e3"
      },
      "source": [
        "tuple1 = (10,32,13)\n",
        "tuple2 = tuple1[0:2]\n",
        "tuple2"
      ],
      "execution_count": 28,
      "outputs": [
        {
          "output_type": "execute_result",
          "data": {
            "text/plain": [
              "(10, 32)"
            ]
          },
          "metadata": {
            "tags": []
          },
          "execution_count": 28
        }
      ]
    },
    {
      "cell_type": "markdown",
      "metadata": {
        "id": "8sFU6KK6JkR1"
      },
      "source": [
        "### Modifying the list inside the tuple"
      ]
    },
    {
      "cell_type": "code",
      "metadata": {
        "colab": {
          "base_uri": "https://localhost:8080/"
        },
        "id": "a0BzRHftJkdh",
        "outputId": "293aaa8f-9cf6-46fd-c347-372a1c84e604"
      },
      "source": [
        "tuple3 = (1,2,[3,4],5)\n",
        "tuple3[2][0]=2.5\n",
        "tuple3"
      ],
      "execution_count": 29,
      "outputs": [
        {
          "output_type": "execute_result",
          "data": {
            "text/plain": [
              "(1, 2, [2.5, 4], 5)"
            ]
          },
          "metadata": {
            "tags": []
          },
          "execution_count": 29
        }
      ]
    },
    {
      "cell_type": "markdown",
      "metadata": {
        "id": "_2I1SamwL5fE"
      },
      "source": [
        "### Sorting a tuple by 2nd item"
      ]
    },
    {
      "cell_type": "code",
      "metadata": {
        "colab": {
          "base_uri": "https://localhost:8080/"
        },
        "id": "CaKdMaNFL5pl",
        "outputId": "235f22f5-eb34-4ecc-dfa4-100f1e2a02a5"
      },
      "source": [
        "tuple4 = (('a', 23),('b', 37),('c', 11), ('d',29))\n",
        "sort_tuple4 = tuple(sorted(list(tuple4), key=lambda x:x[1]))\n",
        "print(sort_tuple4)"
      ],
      "execution_count": 35,
      "outputs": [
        {
          "output_type": "stream",
          "text": [
            "(('c', 11), ('a', 23), ('d', 29), ('b', 37))\n"
          ],
          "name": "stdout"
        }
      ]
    },
    {
      "cell_type": "markdown",
      "metadata": {
        "id": "GKt_DLRCMcT3"
      },
      "source": [
        "### frequency items in tuple"
      ]
    },
    {
      "cell_type": "code",
      "metadata": {
        "colab": {
          "base_uri": "https://localhost:8080/"
        },
        "id": "j_vh6e0qMcdv",
        "outputId": "367cf907-ca8c-48af-f3db-95320f0b9f84"
      },
      "source": [
        "tuple5 = (50, 10, 60, 70, 80)\n",
        "\n",
        "for i in tuple5:\n",
        "  print(i,\"count is {}\".format(tuple5.count(i)))\n",
        "\n"
      ],
      "execution_count": 50,
      "outputs": [
        {
          "output_type": "stream",
          "text": [
            "50 count is 1\n",
            "10 count is 1\n",
            "60 count is 1\n",
            "70 count is 1\n",
            "80 count is 1\n"
          ],
          "name": "stdout"
        }
      ]
    },
    {
      "cell_type": "markdown",
      "metadata": {
        "id": "2Wtq-IczOZMs"
      },
      "source": [
        "### count a value"
      ]
    },
    {
      "cell_type": "code",
      "metadata": {
        "colab": {
          "base_uri": "https://localhost:8080/"
        },
        "id": "WqBD6ZReOZZY",
        "outputId": "e512f252-1f41-4297-f2b0-0d4f9aff2d2d"
      },
      "source": [
        "tuple6 = (50, 10, 60, 70, 80)\n",
        "tuple6.count(50)"
      ],
      "execution_count": 51,
      "outputs": [
        {
          "output_type": "execute_result",
          "data": {
            "text/plain": [
              "1"
            ]
          },
          "metadata": {
            "tags": []
          },
          "execution_count": 51
        }
      ]
    },
    {
      "cell_type": "markdown",
      "metadata": {
        "id": "YbKGSW65OoqE"
      },
      "source": [
        "### if all items in tuple are same"
      ]
    },
    {
      "cell_type": "code",
      "metadata": {
        "colab": {
          "base_uri": "https://localhost:8080/"
        },
        "id": "KqlmIW5HOo7_",
        "outputId": "48137459-1542-4753-9b8e-54f2985e4299"
      },
      "source": [
        "tuple7 = (50, 10, 60, 70, 50)\n",
        "\n",
        "def check(sample_tuple):\n",
        "  return all(i==sample_tuple[0] for i in sample_tuple)\n",
        "\n",
        "check(tuple7)  "
      ],
      "execution_count": 54,
      "outputs": [
        {
          "output_type": "execute_result",
          "data": {
            "text/plain": [
              "False"
            ]
          },
          "metadata": {
            "tags": []
          },
          "execution_count": 54
        }
      ]
    }
  ]
}