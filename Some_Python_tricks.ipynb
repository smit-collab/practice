{
  "nbformat": 4,
  "nbformat_minor": 0,
  "metadata": {
    "colab": {
      "name": "Some Python tricks.ipynb",
      "provenance": [],
      "collapsed_sections": [],
      "authorship_tag": "ABX9TyOsXvQ9O/rp2fyKHrI8Eo7Y",
      "include_colab_link": true
    },
    "kernelspec": {
      "name": "python3",
      "display_name": "Python 3"
    },
    "language_info": {
      "name": "python"
    }
  },
  "cells": [
    {
      "cell_type": "markdown",
      "metadata": {
        "id": "view-in-github",
        "colab_type": "text"
      },
      "source": [
        "<a href=\"https://colab.research.google.com/github/smit-collab/practice/blob/main/Some_Python_tricks.ipynb\" target=\"_parent\"><img src=\"https://colab.research.google.com/assets/colab-badge.svg\" alt=\"Open In Colab\"/></a>"
      ]
    },
    {
      "cell_type": "markdown",
      "metadata": {
        "id": "4UER_DeVdcM7"
      },
      "source": [
        "### measure the time elapsed to execute your code in Python"
      ]
    },
    {
      "cell_type": "code",
      "metadata": {
        "colab": {
          "base_uri": "https://localhost:8080/"
        },
        "id": "aI5lGFWNdYXD",
        "outputId": "416855c7-d16f-4a38-efa1-ecf6c42904ea"
      },
      "source": [
        "import time\n",
        "startTime = time.time()\n",
        "print('hello world')\n",
        "endTime = time.time()\n",
        "totalTime = endTime-startTime\n",
        "print(\"Total time taken to execute is: \",totalTime*1000,\"ms\")"
      ],
      "execution_count": 4,
      "outputs": [
        {
          "output_type": "stream",
          "text": [
            "hello world\n",
            "Total time taken to execute is:  1.7974376678466797 ms\n"
          ],
          "name": "stdout"
        }
      ]
    },
    {
      "cell_type": "markdown",
      "metadata": {
        "id": "fnq2fI6ofTqA"
      },
      "source": [
        "### difference between the two Lists"
      ]
    },
    {
      "cell_type": "code",
      "metadata": {
        "colab": {
          "base_uri": "https://localhost:8080/"
        },
        "id": "KYswN-VAfTzn",
        "outputId": "a7614b42-c86d-44a8-8f70-62778b83aed8"
      },
      "source": [
        "list1 = [1,3,5,6]\n",
        "list2 = [3,4,2,4]\n",
        "set1 = set(list1)\n",
        "set2 = set(list2)\n",
        "print(list(set1.symmetric_difference(set2)))"
      ],
      "execution_count": 8,
      "outputs": [
        {
          "output_type": "stream",
          "text": [
            "[1, 2, 4, 5, 6]\n"
          ],
          "name": "stdout"
        }
      ]
    },
    {
      "cell_type": "markdown",
      "metadata": {
        "id": "C8Yg5GGBgE7l"
      },
      "source": [
        "### Calculate memory is being used by an object"
      ]
    },
    {
      "cell_type": "code",
      "metadata": {
        "colab": {
          "base_uri": "https://localhost:8080/"
        },
        "id": "9zq3FS34gFFt",
        "outputId": "ed42cde1-4d9e-40ef-84bc-69d977ecc192"
      },
      "source": [
        "import sys\n",
        "list3 = ['dwight','michael']\n",
        "print(\"size of list is\",sys.getsizeof(list3),\"bytes\")\n",
        "\n",
        "name = \"dwight\"\n",
        "print(\"size of name is\",sys.getsizeof(name),\"bytes\")"
      ],
      "execution_count": 11,
      "outputs": [
        {
          "output_type": "stream",
          "text": [
            "size of list is 88 bytes\n",
            "size of name is 55 bytes\n"
          ],
          "name": "stdout"
        }
      ]
    },
    {
      "cell_type": "markdown",
      "metadata": {
        "id": "n72004tZgsO1"
      },
      "source": [
        "### Removing duplicates items from a list"
      ]
    },
    {
      "cell_type": "code",
      "metadata": {
        "colab": {
          "base_uri": "https://localhost:8080/"
        },
        "id": "qy9bYDvegsZp",
        "outputId": "ad6482d8-30a8-46f5-87bf-de17306d992e"
      },
      "source": [
        "list4= [20, 22, 24, 26, 28, 28, 20, 30, 24]\n",
        "print(\"Original list is:  \", list4)\n",
        "\n",
        "# convert to sets as sets are unordered,unique values and don't allow copies\n",
        "print(\"List without copies is\",set(list4))"
      ],
      "execution_count": 13,
      "outputs": [
        {
          "output_type": "stream",
          "text": [
            "Original list is:   [20, 22, 24, 26, 28, 28, 20, 30, 24]\n",
            "{20, 22, 24, 26, 28, 30}\n"
          ],
          "name": "stdout"
        }
      ]
    },
    {
      "cell_type": "markdown",
      "metadata": {
        "id": "ZOtwrY1OhEO1"
      },
      "source": [
        "### if all elements in a list are identical"
      ]
    },
    {
      "cell_type": "code",
      "metadata": {
        "colab": {
          "base_uri": "https://localhost:8080/"
        },
        "id": "iGQdyWH9hEYr",
        "outputId": "f2308325-adc5-439d-c745-113d4a8531bd"
      },
      "source": [
        "list5 = [2,2,2,2,2,2]\n",
        "\n",
        "# check if the first element count is same as length of list\n",
        "list5.count(list5[0])==len(list5)"
      ],
      "execution_count": 23,
      "outputs": [
        {
          "output_type": "execute_result",
          "data": {
            "text/plain": [
              "True"
            ]
          },
          "metadata": {
            "tags": []
          },
          "execution_count": 23
        }
      ]
    },
    {
      "cell_type": "markdown",
      "metadata": {
        "id": "OfkAVOmIhy6U"
      },
      "source": [
        "### efficiently compare two unordered lists\n"
      ]
    },
    {
      "cell_type": "code",
      "metadata": {
        "colab": {
          "base_uri": "https://localhost:8080/"
        },
        "id": "AYi63bmlhzFE",
        "outputId": "51064682-05be-48f5-df62-fe610e92c1e6"
      },
      "source": [
        "# both the list have same values but are unordered\n",
        "from collections import Counter\n",
        "\n",
        "list6 = [4,6,2,1,8]\n",
        "list7 = [4,2,6,8,1]\n",
        "\n",
        "print(\"Q. Are two lists equal ? \\nAns:\",Counter(list6) == Counter(list7))\n",
        "\n",
        "\n",
        "\n"
      ],
      "execution_count": 32,
      "outputs": [
        {
          "output_type": "stream",
          "text": [
            "Q. Are two lists equal ? \n",
            "Ans: True\n"
          ],
          "name": "stdout"
        }
      ]
    },
    {
      "cell_type": "markdown",
      "metadata": {
        "id": "9be1gK1KmKN9"
      },
      "source": [
        "### Use enumerate"
      ]
    },
    {
      "cell_type": "code",
      "metadata": {
        "colab": {
          "base_uri": "https://localhost:8080/"
        },
        "id": "Xjj-6MckmKYs",
        "outputId": "7f30c260-7aa8-4d66-ba83-ba98612885ab"
      },
      "source": [
        "list8 = [\"angela\",\"stanley\"]\n",
        "for index,element in enumerate(list8):\n",
        "  print('Index[',index,']',\"value:\",element)"
      ],
      "execution_count": 35,
      "outputs": [
        {
          "output_type": "stream",
          "text": [
            "Index[ 0 ] value: angela\n",
            "Index[ 1 ] value: stanley\n"
          ],
          "name": "stdout"
        }
      ]
    },
    {
      "cell_type": "markdown",
      "metadata": {
        "id": "lYHmmuXfnaMk"
      },
      "source": [
        "### Merge two dictionaries in a single expression"
      ]
    },
    {
      "cell_type": "code",
      "metadata": {
        "colab": {
          "base_uri": "https://localhost:8080/"
        },
        "id": "a2l59TnEnaW3",
        "outputId": "f239b260-9c5c-4d92-9f69-616f225c5eb6"
      },
      "source": [
        "currentEmployee = {1: 'Michael', 2: \"Angela\", 3:\"Kevin\"}\n",
        "formerEmployee  = {2: 'Stanley', 4: \"Dwight\"}\n",
        "\n",
        "combined_dict = {**currentEmployee,**formerEmployee}\n",
        "combined_dict"
      ],
      "execution_count": 36,
      "outputs": [
        {
          "output_type": "execute_result",
          "data": {
            "text/plain": [
              "{1: 'Michael', 2: 'Stanley', 3: 'Kevin', 4: 'Dwight'}"
            ]
          },
          "metadata": {
            "tags": []
          },
          "execution_count": 36
        }
      ]
    },
    {
      "cell_type": "markdown",
      "metadata": {
        "id": "JR99Zua4nyu6"
      },
      "source": [
        "### Format a decimal to always show 2 decimal places"
      ]
    },
    {
      "cell_type": "code",
      "metadata": {
        "colab": {
          "base_uri": "https://localhost:8080/"
        },
        "id": "VDanyR_BnzCO",
        "outputId": "8aae0bf8-232b-4459-b91e-d038b31d5884"
      },
      "source": [
        "number = 88.23\n",
        "print('{0:.2f}'.format(number))"
      ],
      "execution_count": 37,
      "outputs": [
        {
          "output_type": "stream",
          "text": [
            "88.23\n"
          ],
          "name": "stdout"
        }
      ]
    }
  ]
}